{
 "cells": [
  {
   "cell_type": "markdown",
   "metadata": {},
   "source": [
    "# Methods in Data Science - Solution for Homework 2 - Wilmington College\n",
    "\n",
    "**Chapter 3: Exercises 8, 9, 10 and 15**"
   ]
  },
  {
   "cell_type": "markdown",
   "metadata": {},
   "source": [
    "### Exercise 8\n",
    "This question involves the use of simple linear regression on the `Auto` data set.\n",
    "- (a) Use the `sm.OLS()` function to perform a simple linear regression\n",
    "with `mpg` as the response and `horsepower` as the predictor. Use\n",
    "the summarize() function to print the results. Comment on the\n",
    "output. For example:\n",
    "    - i. Is there a relationship between the predictor and the re-\n",
    "sponse?\n",
    "    - ii. How strong is the relationship between the predictor and\n",
    "the response?\n",
    "    - iii. Is the relationship between the predictor and the response\n",
    "positive or negative?\n",
    "    - iv. What is the predicted `mpg` associated with a `horsepower` of\n",
    "98? What are the associated 95 % confidence and prediction\n",
    "intervals?\n",
    "- (b) Plot the response and the predictor in a new set of axes `ax`. Use\n",
    "the `ax.axline()` method or the `abline()` function defined in the\n",
    "lab to display the least squares regression line.\n",
    "- (c) Produce some of diagnostic plots of the least squares regression\n",
    "fit as described in the lab. Comment on any problems you see\n",
    "with the fit."
   ]
  },
  {
   "cell_type": "code",
   "execution_count": 1,
   "metadata": {},
   "outputs": [],
   "source": [
    "#--------------Solution----------------#\n",
    "\n",
    "\n"
   ]
  },
  {
   "cell_type": "markdown",
   "metadata": {},
   "source": [
    "### Exercise 9\n",
    "This question involves the use of multiple linear regression on the\n",
    "`Auto` data set.\n",
    "- (a) Produce a scatterplot matrix which includes all of the variables\n",
    "in the data set.\n",
    "- (b) Compute the matrix of correlations between the variables using\n",
    "the `DataFrame.corr()` method.\n",
    "- (c) Use the `sm.OLS()` function to perform a multiple linear regression\n",
    "with `mpg` as the response and all other variables except name as\n",
    "the predictors. Use the `summarize()` function to print the results.\n",
    "Comment on the output. For instance:\n",
    "    - i. Is there a relationship between the predictors and the response? Use the `anova_lm()` function from `statsmodels` to\n",
    "answer this question.\n",
    "    - ii. Which predictors appear to have a statistically significant\n",
    "relationship to the response?\n",
    "    - iii. What does the coefficient for the `year` variable suggest?\n",
    "- (d) Produce some of diagnostic plots of the linear regression fit as\n",
    "described in the lab. Comment on any problems you see with the\n",
    "fit. Do the residual plots suggest any unusually large outliers?\n",
    "Does the leverage plot identify any observations with unusually\n",
    "high leverage?\n",
    "- (e) Fit some models with interactions as described in the lab. Do\n",
    "any interactions appear to be statistically significant?\n",
    "- (f) Try a few different transformations of the variables, such as\n",
    "$log(X), \\sqrt(X), X^2$. Comment on your findings."
   ]
  },
  {
   "cell_type": "code",
   "execution_count": 2,
   "metadata": {},
   "outputs": [],
   "source": [
    "#--------------Solution----------------#\n",
    "\n",
    "\n"
   ]
  },
  {
   "cell_type": "markdown",
   "metadata": {},
   "source": [
    "### Exercise 10. \n",
    "This question should be answered using the Carseats data set.\n",
    "- (a) Fit a multiple regression model to predict Sales using Price,\n",
    "Urban, and US.\n",
    "- (b) Provide an interpretation of each coefficient in the model. Be\n",
    "careful—some of the variables in the model are qualitative!\n",
    "- (c) Write out the model in equation form, being careful to handle\n",
    "the qualitative variables properly.\n",
    "- (d) For which of the predictors can you reject the null hypothesis\n",
    "$H_0 : β_j = 0$?\n",
    "- (e) On the basis of your response to the previous question, fit a\n",
    "smaller model that only uses the predictors for which there is\n",
    "evidence of association with the outcome.\n",
    "- (f) How well do the models in (a) and (e) fit the data?\n",
    "- (g) Using the model from (e), obtain 95 % confidence intervals for\n",
    "the coefficient(s).\n",
    "- (h) Is there evidence of outliers or high leverage observations in the\n",
    "model from (e)?"
   ]
  },
  {
   "cell_type": "code",
   "execution_count": null,
   "metadata": {},
   "outputs": [],
   "source": [
    "#--------------Solution----------------#"
   ]
  },
  {
   "cell_type": "markdown",
   "metadata": {},
   "source": [
    "### Exercis 15\n",
    "\n",
    "This problem involves the `Boston` data set, which we saw in the lab\n",
    "for this chapter. We will now try to predict per capita crime rate\n",
    "using the other variables in this data set. In other words, per capita\n",
    "crime rate is the response, and the other variables are the predictors.\n",
    "- (a) For each predictor, fit a simple linear regression model to predict\n",
    "the response. Describe your results. In which of the models is\n",
    "there a statistically significant association between the predictor\n",
    "and the response? Create some plots to back up your assertions.\n",
    "- (b) Fit a multiple regression model to predict the response using\n",
    "all of the predictors. Describe your results. For which predictors\n",
    "can we reject the null hypothesis $H_0 : \\beta_j = 0$?\n",
    "- (c) How do your results from (a) compare to your results from (b)?\n",
    "Create a plot displaying the univariate regression coefficients\n",
    "from (a) on the x-axis, and the multiple regression coefficients\n",
    "from (b) on the y-axis. That is, each predictor is displayed as a\n",
    "single point in the plot. Its coefficient in a simple linear regression model is shown on the x-axis, and its coefficient estimate\n",
    "in the multiple linear regression model is shown on the y-axis.\n",
    "- (d) Is there evidence of non-linear association between any of the\n",
    "predictors and the response? To answer this question, for each\n",
    "predictor X, fit a model of the form\n",
    "$$Y= \\beta_0 + \\beta_1X + β2X^2 + \\beta_3X^3 + \\epsilon.$$"
   ]
  },
  {
   "cell_type": "code",
   "execution_count": null,
   "metadata": {},
   "outputs": [],
   "source": [
    "#--------------Solution----------------#"
   ]
  }
 ],
 "metadata": {
  "kernelspec": {
   "display_name": "Python 3",
   "language": "python",
   "name": "python3"
  },
  "language_info": {
   "codemirror_mode": {
    "name": "ipython",
    "version": 3
   },
   "file_extension": ".py",
   "mimetype": "text/x-python",
   "name": "python",
   "nbconvert_exporter": "python",
   "pygments_lexer": "ipython3",
   "version": "3.12.1"
  }
 },
 "nbformat": 4,
 "nbformat_minor": 2
}
